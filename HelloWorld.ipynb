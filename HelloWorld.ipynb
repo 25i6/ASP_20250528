{
 "cells": [
  {
   "cell_type": "markdown",
   "id": "7ed3d8a9",
   "metadata": {},
   "source": [
    "# 1.環境\n"
   ]
  },
  {
   "cell_type": "markdown",
   "id": "df1b48a0",
   "metadata": {},
   "source": [
    "## 1.1キャッシュの消去 2025年7月3日"
   ]
  },
  {
   "cell_type": "code",
   "execution_count": 1,
   "id": "4b76cefd",
   "metadata": {},
   "outputs": [],
   "source": [
    "import torch\n",
    "torch.cuda.empty_cache()"
   ]
  },
  {
   "cell_type": "code",
   "execution_count": 2,
   "id": "96770ff6",
   "metadata": {},
   "outputs": [],
   "source": [
    "import torch\n",
    "import gc\n",
    "\n",
    "gc.collect()\n",
    "torch.cuda.empty_cache()\n"
   ]
  },
  {
   "cell_type": "code",
   "execution_count": 3,
   "id": "82a4aa84",
   "metadata": {},
   "outputs": [
    {
     "name": "stdout",
     "output_type": "stream",
     "text": [
      "Hello World.\n"
     ]
    }
   ],
   "source": [
    "print(\"Hello World.\")"
   ]
  },
  {
   "cell_type": "markdown",
   "id": "d6a8d176",
   "metadata": {},
   "source": [
    "2025年7月3日　cuda認識されない．"
   ]
  },
  {
   "cell_type": "code",
   "execution_count": 2,
   "id": "2a3e7b7d",
   "metadata": {},
   "outputs": [
    {
     "name": "stdout",
     "output_type": "stream",
     "text": [
      "True\n"
     ]
    }
   ],
   "source": [
    "import torch\n",
    "print(torch.cuda.is_available())"
   ]
  },
  {
   "cell_type": "markdown",
   "id": "3acdc0ac",
   "metadata": {},
   "source": [
    "2025年5月28日．MLLM上から変更できるか確認．"
   ]
  },
  {
   "cell_type": "code",
   "execution_count": null,
   "id": "8722852c",
   "metadata": {},
   "outputs": [],
   "source": [
    "import torch\n",
    "print(torch.__version__)\n",
    "print(torch.cuda.is_available())"
   ]
  },
  {
   "cell_type": "markdown",
   "id": "81fab417",
   "metadata": {},
   "source": [
    "2025/06/04複数のライブラリのバージョン確認．"
   ]
  },
  {
   "cell_type": "code",
   "execution_count": 1,
   "id": "222c20c8",
   "metadata": {},
   "outputs": [
    {
     "name": "stdout",
     "output_type": "stream",
     "text": [
      "truecase : インポート成功, バージョン: 0.0.14\n",
      "tqdm : インポート成功, バージョン: 4.67.1\n",
      "pyhocon : インポート成功, バージョン: バージョン情報なし\n",
      "scipy : インポート成功, バージョン: 1.9.3\n",
      "numpy : インポート成功, バージョン: 1.23.5\n"
     ]
    },
    {
     "name": "stderr",
     "output_type": "stream",
     "text": [
      "/usr/local/lib/python3.8/site-packages/tqdm/auto.py:21: TqdmWarning: IProgress not found. Please update jupyter and ipywidgets. See https://ipywidgets.readthedocs.io/en/stable/user_install.html\n",
      "  from .autonotebook import tqdm as notebook_tqdm\n"
     ]
    },
    {
     "name": "stdout",
     "output_type": "stream",
     "text": [
      "torch : インポート成功, バージョン: 1.12.1+cu113\n",
      "huggingface_hub : インポート成功, バージョン: 0.10.1\n",
      "transformers : インポート成功, バージョン: 4.23.1\n",
      "sentencepiece : インポート成功, バージョン: バージョン情報なし\n"
     ]
    }
   ],
   "source": [
    "libraries = {\n",
    "    \"truecase\": \"truecase\",\n",
    "    \"tqdm\": \"tqdm\",\n",
    "    \"pyhocon\": \"pyhocon\",\n",
    "    \"scipy\": \"scipy\",\n",
    "    \"numpy\": \"numpy\",\n",
    "    \"torch\": \"torch\",\n",
    "    \"huggingface_hub\": \"huggingface_hub\",\n",
    "    \"transformers\": \"transformers\",\n",
    "    \"sentencepiece\": \"sentencepiece\"\n",
    "}\n",
    "\n",
    "def check_libraries(libs):\n",
    "    for name, module_name in libs.items():\n",
    "        try:\n",
    "            module = __import__(module_name)\n",
    "            version = getattr(module, \"__version__\", \"バージョン情報なし\")\n",
    "            print(f\"{name} : インポート成功, バージョン: {version}\")\n",
    "        except ImportError:\n",
    "            print(f\"{name} : インポート失敗\")\n",
    "        except Exception as e:\n",
    "            print(f\"{name} : エラー発生 - {e}\")\n",
    "\n",
    "if __name__ == \"__main__\":\n",
    "    check_libraries(libraries)\n"
   ]
  },
  {
   "cell_type": "markdown",
   "id": "6a060690",
   "metadata": {},
   "source": [
    "numpyのみ確認．"
   ]
  },
  {
   "cell_type": "code",
   "execution_count": 2,
   "id": "d3b07072",
   "metadata": {},
   "outputs": [
    {
     "name": "stdout",
     "output_type": "stream",
     "text": [
      "1.23.5\n"
     ]
    }
   ],
   "source": [
    "import numpy\n",
    "print(numpy.__version__)"
   ]
  },
  {
   "cell_type": "markdown",
   "id": "39954408",
   "metadata": {},
   "source": [
    "pytorchの確認．"
   ]
  },
  {
   "cell_type": "code",
   "execution_count": 15,
   "id": "1dfc7338",
   "metadata": {},
   "outputs": [
    {
     "ename": "NameError",
     "evalue": "name 'model' is not defined",
     "output_type": "error",
     "traceback": [
      "\u001b[0;31m---------------------------------------------------------------------------\u001b[0m",
      "\u001b[0;31mNameError\u001b[0m                                 Traceback (most recent call last)",
      "Cell \u001b[0;32mIn[15], line 2\u001b[0m\n\u001b[1;32m      1\u001b[0m \u001b[38;5;28;01mfrom\u001b[39;00m \u001b[38;5;21;01mtorch\u001b[39;00m\u001b[38;5;21;01m.\u001b[39;00m\u001b[38;5;21;01moptim\u001b[39;00m \u001b[38;5;28;01mimport\u001b[39;00m AdamW\n\u001b[0;32m----> 2\u001b[0m optimizer \u001b[38;5;241m=\u001b[39m AdamW(\u001b[43mmodel\u001b[49m\u001b[38;5;241m.\u001b[39mparameters(), lr\u001b[38;5;241m=\u001b[39m\u001b[38;5;241m5e-5\u001b[39m, fused\u001b[38;5;241m=\u001b[39m\u001b[38;5;28;01mTrue\u001b[39;00m)\n\u001b[1;32m      3\u001b[0m \u001b[38;5;28mprint\u001b[39m(\u001b[38;5;124m\"\u001b[39m\u001b[38;5;124mFused AdamW 使用可能\u001b[39m\u001b[38;5;124m\"\u001b[39m)\n",
      "\u001b[0;31mNameError\u001b[0m: name 'model' is not defined"
     ]
    }
   ],
   "source": [
    "from torch.optim import AdamW\n",
    "optimizer = AdamW(model.parameters(), lr=5e-5, fused=True)\n",
    "print(\"Fused AdamW 使用可能\")"
   ]
  },
  {
   "cell_type": "markdown",
   "id": "7c52e8fc",
   "metadata": {},
   "source": [
    "・cudaのバージョン変更は予備のコンテナでやるよん．\n",
    "\n",
    "\n",
    "エラー文８「RuntimeError: CUDA error: invalid device ordinal\n",
    "\n",
    "\n",
    "CUDA kernel errors might be asynchronously reported at some other API call, so the stacktrace below might be incorrect.\n",
    "\n",
    "\n",
    "For debugging consider passing CUDA_LAUNCH_BLOCKING=1\n",
    "\n",
    "Compile with `TORCH_USE_CUDA_DSA` to enable device-side assertions.」"
   ]
  },
  {
   "cell_type": "code",
   "execution_count": null,
   "id": "dfa57fb3",
   "metadata": {},
   "outputs": [
    {
     "name": "stdout",
     "output_type": "stream",
     "text": [
      "True\n"
     ]
    }
   ],
   "source": [
    "import torch\n",
    "print(torch.cuda.is_available())"
   ]
  },
  {
   "cell_type": "code",
   "execution_count": null,
   "id": "2d79c225",
   "metadata": {},
   "outputs": [
    {
     "ename": "NameError",
     "evalue": "name 'gpu_id' is not defined",
     "output_type": "error",
     "traceback": [
      "\u001b[0;31m---------------------------------------------------------------------------\u001b[0m\n",
      "\u001b[0;31mNameError\u001b[0m                                 Traceback (most recent call last)\n",
      "Cell \u001b[0;32mIn[3], line 1\u001b[0m\n",
      "\u001b[0;32m----> 1\u001b[0m \u001b[38;5;28mprint\u001b[39m(\u001b[43mgpu_id\u001b[49m)\n",
      "\n",
      "\u001b[0;31mNameError\u001b[0m: name 'gpu_id' is not defined"
     ]
    }
   ],
   "source": [
    "#print(gpu_id)\n",
    "#ファイル内部じゃないと変数のぞけない．"
   ]
  }
 ],
 "metadata": {
  "kernelspec": {
   "display_name": "base",
   "language": "python",
   "name": "python3"
  },
  "language_info": {
   "codemirror_mode": {
    "name": "ipython",
    "version": 3
   },
   "file_extension": ".py",
   "mimetype": "text/x-python",
   "name": "python",
   "nbconvert_exporter": "python",
   "pygments_lexer": "ipython3",
   "version": "3.10.6"
  }
 },
 "nbformat": 4,
 "nbformat_minor": 5
}
